{
 "cells": [
  {
   "cell_type": "markdown",
   "metadata": {},
   "source": [
    "This file retrieves and stores MAL data"
   ]
  },
  {
   "cell_type": "code",
   "execution_count": 7,
   "metadata": {},
   "outputs": [],
   "source": [
    "## load libraries\n",
    "\n",
    "import numpy as np\n",
    "import pandas as pd\n",
    "\n",
    "from bs4 import BeautifulSoup, SoupStrainer\n",
    "import requests\n",
    "import time, os\n",
    "\n",
    "from selenium import webdriver\n",
    "from selenium.webdriver.common.keys import Keys\n",
    "from selenium.webdriver.common.action_chains import ActionChains\n",
    "\n",
    "chromedriver = \"C:\\\\Users\\\\vi_ci\\\\Downloads\\\\chromedriver\\\\chromedriver.exe\" # path to the chromedriver executable\n",
    "os.environ[\"webdriver.chrome.driver\"] = chromedriver"
   ]
  },
  {
   "cell_type": "code",
   "execution_count": 3,
   "metadata": {},
   "outputs": [],
   "source": [
    "def hover(self):\n",
    "    wd = webdriver.connection\n",
    "    element = wd.find_element_by_link_text(self.locator)\n",
    "    hov = ActionChains(wd).move_to_element(element)\n",
    "    hov.perform()"
   ]
  },
  {
   "cell_type": "markdown",
   "metadata": {},
   "source": [
    "**How are MyAnimeList scores calculated?**\n",
    "\n",
    "All scores given in the database are calculated as a weighted score.\n",
    "\n",
    "Weighted Score = (v / (v + m)) \\* S + (m / (v + m)) \\* C\n",
    "- S = Average score for the anime/manga\n",
    "- v = Number users giving a score for the anime/manga †\n",
    "- m = Minimum number of scored users required to get a calculated score\n",
    "- C = The mean score across the entire Anime/Manga database\n",
    "\n",
    "† Note that v does not correspond to the \"number of scored users\" as seen on the database page. Scores from users who have not viewed 1/5 of the series upon its completion are not included. Scores given from illegitimate accounts created to sway votes are also not included in the scoring algorithm.\n",
    "\n",
    "Not Yet Aired entries have no score and will display N/A. Entries that do not meet the minimum number of scored users will also not display a calculated score.\n",
    "\n",
    "**Top Anime/Manga Rankings**\n",
    "\n",
    "The \"Top Upcoming\" and \"Most Popular\" rankings are ordered by the number of users who have added the entry to their list. All other Top Anime and Top Manga rankings are ordered by weighted score, as calculated above. Please note that while R18+ entries calculate a weighted score, they are excluded from the rankings."
   ]
  },
  {
   "cell_type": "code",
   "execution_count": 37,
   "metadata": {},
   "outputs": [],
   "source": [
    "def MAL_loadtopanime(page_num):\n",
    "    '''\n",
    "    Load the top anime from MAL based on page_num, 50 per page\n",
    "    So X = (page_num - 1) * 50 + 1) to (page_num * 50)\n",
    "    Returns a soup of the list of X top anime on page_num\n",
    "\n",
    "    Complexity: O(requests.get or BeautifulSoup)\n",
    "    '''\n",
    "    limit = (page_num - 1) * 50\n",
    "    url = \"https://myanimelist.net/topanime.php?limit=\" + str(limit)\n",
    "    response = requests.get(url)\n",
    "    if response.status_code != 200:\n",
    "        print('Enountered', response.status_code, 'error while reading page', page_num , 'of MAL Top Anime')\n",
    "    else:\n",
    "        return BeautifulSoup(response.text, 'lxml').find_all(class_=\"detail\")\n",
    "        # return BeautifulSoup(response.text, 'lxml', parse_only=SoupStrainer(class_=[\"detail\", \"hoverinfo_trigger\"]))"
   ]
  },
  {
   "cell_type": "code",
   "execution_count": 38,
   "metadata": {},
   "outputs": [],
   "source": [
    "soup_mal_top50 = MAL_loadtopanime(1)"
   ]
  },
  {
   "cell_type": "markdown",
   "metadata": {},
   "source": [
    "Testing to retrieve data from the first item (defining functions in the meantime)"
   ]
  },
  {
   "cell_type": "code",
   "execution_count": 39,
   "metadata": {},
   "outputs": [],
   "source": [
    "def MAL_initEntry_top(soup):\n",
    "    '''\n",
    "    Takes the soup of an entry in the MAL top 50\n",
    "    Returns a dictionay entry with Title and URL of the anime\n",
    "    '''\n",
    "    entry = {}\n",
    "    entry['Title'] = soup.find(class_=\"hoverinfo_trigger\").text\n",
    "    entry['URL'] = soup.find(class_=\"hoverinfo_trigger\").get('href')\n",
    "    return entry"
   ]
  },
  {
   "cell_type": "code",
   "execution_count": 40,
   "metadata": {},
   "outputs": [
    {
     "output_type": "stream",
     "name": "stdout",
     "text": "Fullmetal Alchemist: Brotherhood\nhttps://myanimelist.net/anime/5114/Fullmetal_Alchemist__Brotherhood\n"
    }
   ],
   "source": [
    "for soup in soup_mal_top50:\n",
    "    number1 = MAL_initEntry_top(soup)\n",
    "    break\n",
    "\n",
    "print(number1['Title'])\n",
    "print(number1['URL'])"
   ]
  },
  {
   "cell_type": "markdown",
   "metadata": {},
   "source": [
    "Go to number1\\['URL'\\] and pull the soup"
   ]
  },
  {
   "cell_type": "code",
   "execution_count": 47,
   "metadata": {},
   "outputs": [],
   "source": [
    "def MAL_retrieveEntry(entry):\n",
    "    '''\n",
    "    Takes a dictionary that has URL and Title of the MAL anime\n",
    "    Returns a soup of the anine page in question\n",
    "    '''\n",
    "    response = requests.get(entry['URL'])\n",
    "    if response.status_code != 200:\n",
    "        print('Encountered ' + str(response.status_code) + ' error reading ' + entry['Title'])\n",
    "        return -1\n",
    "    else:\n",
    "        return BeautifulSoup(response.text, 'html5', parse_only=SoupStrainer(id='content'))"
   ]
  },
  {
   "cell_type": "code",
   "execution_count": 48,
   "metadata": {},
   "outputs": [],
   "source": [
    "soup_mal_number1 = MAL_retrieveEntry(number1)"
   ]
  },
  {
   "cell_type": "markdown",
   "metadata": {},
   "source": [
    "Retrieve more items from the first item"
   ]
  },
  {
   "cell_type": "code",
   "execution_count": 51,
   "metadata": {},
   "outputs": [],
   "source": [
    "number1sidebar = soup_mal_number1"
   ]
  },
  {
   "cell_type": "markdown",
   "metadata": {},
   "source": [
    "The below gives a list of all fields in the left column of the anime show page"
   ]
  },
  {
   "cell_type": "code",
   "execution_count": 52,
   "metadata": {},
   "outputs": [
    {
     "output_type": "execute_result",
     "data": {
      "text/plain": "[<span class=\"dark_text\">English:</span>,\n <span class=\"dark_text\">Synonyms:</span>,\n <span class=\"dark_text\">Japanese:</span>,\n <span class=\"dark_text\">Type:</span>,\n <span class=\"dark_text\">Episodes:</span>,\n <span class=\"dark_text\">Status:</span>,\n <span class=\"dark_text\">Aired:</span>,\n <span class=\"dark_text\">Premiered:</span>,\n <span class=\"dark_text\">Broadcast:</span>,\n <span class=\"dark_text\">Producers:</span>,\n <span class=\"dark_text\">Licensors:</span>,\n <span class=\"dark_text\">Studios:</span>,\n <span class=\"dark_text\">Source:</span>,\n <span class=\"dark_text\">Genres:</span>,\n <span class=\"dark_text\">Duration:</span>,\n <span class=\"dark_text\">Rating:</span>,\n <span class=\"dark_text\">Score:</span>,\n <span class=\"dark_text\">Ranked:</span>,\n <span class=\"dark_text\">Popularity:</span>,\n <span class=\"dark_text\">Members:</span>,\n <span class=\"dark_text\">Favorites:</span>]"
     },
     "metadata": {},
     "execution_count": 52
    }
   ],
   "source": [
    "number1sidebar.find_all(class_=\"dark_text\")"
   ]
  },
  {
   "cell_type": "markdown",
   "metadata": {},
   "source": [
    "Cycle through the headers in the left column to get all entries. This does not take in multiple entries for a single column, only the first entry"
   ]
  },
  {
   "cell_type": "code",
   "execution_count": 54,
   "metadata": {},
   "outputs": [],
   "source": [
    "def MAL_retrieveSidebar(anime_dict, soup):\n",
    "    '''\n",
    "    Returns anime_dict with additional raw data for the sidebar of the anime entry \n",
    "    '''\n",
    "    headers = soup.find_all(class_=\"dark_text\")\n",
    "    for header in headers:\n",
    "        column_name = header.text.strip()[:-1]\n",
    "        # print(column_name) # error-checking\n",
    "        entry = header.next_sibling.strip()\n",
    "        # print(entry) # error-checking\n",
    "        if(entry.strip() == \"None found,\"): # no entries\n",
    "            entry = []\n",
    "        elif(entry == \"\"):\n",
    "            # special case for score\n",
    "            if(column_name == 'Score'):\n",
    "                entry = header.findNext().text\n",
    "            else:\n",
    "                entry_soup = header.findNext('a')\n",
    "                # print(entry_soup.text, \" ||| \", entry_soup.findNext('a'), \" ||| \", entry_soup.findNext().name) # error-checking\n",
    "                \n",
    "                # create a list of items if more than one entry; signifed by the plural in column_name\n",
    "                if(column_name[-1] != 's'):\n",
    "                    entry = entry_soup.text\n",
    "                else:\n",
    "                    entry = [entry_soup.text]\n",
    "                    while(entry_soup.findNext().name != 'div'):\n",
    "                        entry_soup = entry_soup.findNext('a')\n",
    "                        entry.append(entry_soup.text)\n",
    "        anime_dict[column_name] = entry\n",
    "        # print('---')\n",
    "    return anime_dict"
   ]
  },
  {
   "cell_type": "code",
   "execution_count": 55,
   "metadata": {},
   "outputs": [],
   "source": [
    "number1 = MAL_retrieveSidebar(number1, soup_mal_number1)"
   ]
  },
  {
   "cell_type": "code",
   "execution_count": 56,
   "metadata": {},
   "outputs": [
    {
     "output_type": "execute_result",
     "data": {
      "text/plain": "{'Title': 'Fullmetal Alchemist: Brotherhood',\n 'URL': 'https://myanimelist.net/anime/5114/Fullmetal_Alchemist__Brotherhood',\n 'English': 'Fullmetal Alchemist: Brotherhood',\n 'Synonyms': 'Hagane no Renkinjutsushi: Fullmetal Alchemist, Fullmetal Alchemist (2009), FMA, FMAB',\n 'Japanese': '鋼の錬金術師 FULLMETAL ALCHEMIST',\n 'Type': 'TV',\n 'Episodes': '64',\n 'Status': 'Finished Airing',\n 'Aired': 'Apr 5, 2009 to Jul 4, 2010',\n 'Premiered': 'Spring 2009',\n 'Broadcast': 'Sundays at 17:00 (JST)',\n 'Producers': ['Aniplex',\n  'Square Enix',\n  'Mainichi Broadcasting System',\n  'Studio Moriken'],\n 'Licensors': ['Funimation', 'Aniplex of America'],\n 'Studios': ['Bones'],\n 'Source': 'Manga',\n 'Genres': ['Action',\n  'Military',\n  'Adventure',\n  'Comedy',\n  'Drama',\n  'Magic',\n  'Fantasy',\n  'Shounen'],\n 'Duration': '24 min. per ep.',\n 'Rating': 'R - 17+ (violence & profanity)',\n 'Score': '9.23',\n 'Ranked': '#1',\n 'Popularity': '#4',\n 'Members': '1,739,651',\n 'Favorites': '148,926'}"
     },
     "metadata": {},
     "execution_count": 56
    }
   ],
   "source": [
    "number1"
   ]
  },
  {
   "cell_type": "markdown",
   "metadata": {},
   "source": [
    "Aired, Duration, Members and Favorites needs post-processing"
   ]
  },
  {
   "cell_type": "code",
   "execution_count": 57,
   "metadata": {},
   "outputs": [],
   "source": [
    "def MAL_ppDuration(duration_entry):\n",
    "    '''\n",
    "    Takes in the raw duration entry in the form (xx min.) (xx hr.) (per ep)\n",
    "    Returns total number of minutes per episode\n",
    "    '''\n",
    "    duration_array = duration_entry.split()\n",
    "    duration_norm = 0\n",
    "    if 'min.' in duration_array:\n",
    "        duration_norm += int(duration_array[duration_array.index('min.') - 1])\n",
    "    if 'hr.' in duration_array:\n",
    "        duration_norm += 60 * int(duration_array[duration_array.index('hr.') - 1])\n",
    "    return duration_norm"
   ]
  },
  {
   "cell_type": "code",
   "execution_count": 58,
   "metadata": {},
   "outputs": [],
   "source": [
    "def MAL_ppAired(anime_dict):\n",
    "    '''\n",
    "    Takes in the original anime sidebar dictionary\n",
    "    Return the dictionary with 'Started' and 'Ended' columns added in Timestamp format\n",
    "    '''\n",
    "    def MAL_toDatetime(date_string):\n",
    "        try:\n",
    "            try:\n",
    "                return pd.to_datetime(aired_array[0], format=\"%b %d, %Y\")\n",
    "            except:\n",
    "                try:\n",
    "                    return pd.to_datetime(aired_array[0], format=\"%b, %Y\")\n",
    "                except:\n",
    "                    return pd.to_datetime(aired_array[0], format=\"%Y\")\n",
    "        except:\n",
    "            return np.nan\n",
    "\n",
    "    aired_array = anime_dict['Aired'].split(' to ')\n",
    "    anime_dict['Started'] = MAL_toDatetime(aired_array[0])\n",
    "    if len(aired_array) > 1:\n",
    "        anime_dict['Ended'] = MAL_toDatetime(aired_array[1])\n",
    "    return anime_dict"
   ]
  },
  {
   "cell_type": "code",
   "execution_count": 59,
   "metadata": {},
   "outputs": [],
   "source": [
    "def remove_commas(input_str):\n",
    "    return int(input_str.strip().replace(',',''))\n",
    "\n",
    "def MAL_ppSidebar(sidebar_dict):\n",
    "    '''\n",
    "    Postprocessing of MAL sidebar\n",
    "    Take in the unprocessed sidebar dictionary\n",
    "    Return the processed sidebar dictionary\n",
    "    '''\n",
    "\n",
    "    if(sidebar_dict['Episodes'] == 'Unknown'):\n",
    "        sidebar_dict['Episodes'] = np.nan\n",
    "    else:\n",
    "        sidebar_dict['Episodes'] = int(sidebar_dict['Episodes'])\n",
    "    sidebar_dict['Duration'] = MAL_ppDuration(sidebar_dict['Duration'])\n",
    "    sidebar_dict = MAL_ppAired(sidebar_dict)\n",
    "    sidebar_dict['Members'] = remove_commas(sidebar_dict['Members'])\n",
    "    sidebar_dict['Favorites'] = remove_commas(sidebar_dict['Favorites'])\n",
    "\n",
    "    return sidebar_dict"
   ]
  },
  {
   "cell_type": "code",
   "execution_count": 60,
   "metadata": {},
   "outputs": [],
   "source": [
    "number1 = MAL_ppSidebar(number1)"
   ]
  },
  {
   "cell_type": "markdown",
   "metadata": {},
   "source": [
    "Now retrieve the details from the topbar of the anime show page"
   ]
  },
  {
   "cell_type": "code",
   "execution_count": 61,
   "metadata": {},
   "outputs": [],
   "source": [
    "def MAL_retrieveTopbar(anime_dict, soup):\n",
    "    '''\n",
    "    Retrieves the score and voters from the topbar of the anime entry\n",
    "    Return the modified anime_dict\n",
    "    '''\n",
    "\n",
    "    topbar = soup.find(class_='anime-detail-header-stats')\n",
    "    \n",
    "    if(anime_dict['Score'] == 'N/A'):\n",
    "        anime_dict['Score'] = np.nan \n",
    "        anime_dict['Voters'] = np.nan # no score means no one voted\n",
    "    else:\n",
    "        anime_dict['Score'] = float(topbar.find(class_='score-label').text)\n",
    "        anime_dict['Voters'] = remove_commas(topbar.find(class_='score').get('data-user').split()[0])\n",
    "\n",
    "    return anime_dict"
   ]
  },
  {
   "cell_type": "code",
   "execution_count": 62,
   "metadata": {},
   "outputs": [
    {
     "output_type": "stream",
     "name": "stdout",
     "text": "9.23\n1040597\n"
    }
   ],
   "source": [
    "number1 = MAL_retrieveTopbar(number1, soup_mal_number1)\n",
    "print(number1['Score'])\n",
    "print(number1['Voters'])"
   ]
  },
  {
   "cell_type": "markdown",
   "metadata": {},
   "source": [
    "To add related anime:"
   ]
  },
  {
   "cell_type": "code",
   "execution_count": 63,
   "metadata": {},
   "outputs": [],
   "source": [
    "def MAL_retrieveRelated(anime_dict, soup):\n",
    "    '''\n",
    "    Retrieves related anime from the anime entry\n",
    "    Returns the modified anime_dict\n",
    "    '''\n",
    "    related = soup.find(class_='anime_detail_related_anime')\n",
    "    if(related is None): # nothing to add, so return\n",
    "        return anime_dict\n",
    "    related_rows = related.find_all('tr')\n",
    "    for item in related_rows:\n",
    "        header = item.find('td').text.strip()[:-1]\n",
    "        entry = item.find('td').find_next().text.strip()\n",
    "        anime_dict[header] = [item.strip() for item in entry.split(',')]\n",
    "    \n",
    "    return anime_dict"
   ]
  },
  {
   "cell_type": "code",
   "execution_count": 64,
   "metadata": {},
   "outputs": [],
   "source": [
    "number1 = MAL_retrieveRelated(number1, soup_mal_number1)"
   ]
  },
  {
   "cell_type": "markdown",
   "metadata": {},
   "source": [
    "Test to see that all data is captured"
   ]
  },
  {
   "cell_type": "code",
   "execution_count": 65,
   "metadata": {},
   "outputs": [
    {
     "output_type": "execute_result",
     "data": {
      "text/plain": "{'Title': 'Fullmetal Alchemist: Brotherhood',\n 'URL': 'https://myanimelist.net/anime/5114/Fullmetal_Alchemist__Brotherhood',\n 'English': 'Fullmetal Alchemist: Brotherhood',\n 'Synonyms': 'Hagane no Renkinjutsushi: Fullmetal Alchemist, Fullmetal Alchemist (2009), FMA, FMAB',\n 'Japanese': '鋼の錬金術師 FULLMETAL ALCHEMIST',\n 'Type': 'TV',\n 'Episodes': 64,\n 'Status': 'Finished Airing',\n 'Aired': 'Apr 5, 2009 to Jul 4, 2010',\n 'Premiered': 'Spring 2009',\n 'Broadcast': 'Sundays at 17:00 (JST)',\n 'Producers': ['Aniplex',\n  'Square Enix',\n  'Mainichi Broadcasting System',\n  'Studio Moriken'],\n 'Licensors': ['Funimation', 'Aniplex of America'],\n 'Studios': ['Bones'],\n 'Source': 'Manga',\n 'Genres': ['Action',\n  'Military',\n  'Adventure',\n  'Comedy',\n  'Drama',\n  'Magic',\n  'Fantasy',\n  'Shounen'],\n 'Duration': 24,\n 'Rating': 'R - 17+ (violence & profanity)',\n 'Score': 9.23,\n 'Ranked': '#1',\n 'Popularity': '#4',\n 'Members': 1739651,\n 'Favorites': 148926,\n 'Started': Timestamp('2009-04-05 00:00:00'),\n 'Ended': Timestamp('2009-04-05 00:00:00'),\n 'Voters': 1040597,\n 'Adaptation': ['Fullmetal Alchemist'],\n 'Alternative version': ['Fullmetal Alchemist'],\n 'Side story': ['Fullmetal Alchemist: Brotherhood Specials',\n  'Fullmetal Alchemist: The Sacred Star of Milos'],\n 'Spin-off': ['Fullmetal Alchemist: Brotherhood - 4-Koma Theater']}"
     },
     "metadata": {},
     "execution_count": 65
    }
   ],
   "source": [
    "number1"
   ]
  },
  {
   "cell_type": "markdown",
   "metadata": {},
   "source": [
    "Now read the top 50 into a dictionary list"
   ]
  },
  {
   "cell_type": "code",
   "execution_count": 66,
   "metadata": {},
   "outputs": [],
   "source": [
    "def MAL_createdict_top(soup):\n",
    "    '''\n",
    "    Takes in the soup of top anime and returns a dictionary list \n",
    "    '''\n",
    "    mal_top = []\n",
    "    for anime_soup in soup:\n",
    "\n",
    "        # proceses the entry in the top 50 page(s) and gets the related page\n",
    "        mal_entry = MAL_initEntry_top(anime_soup) \n",
    "        soup_mal_entry = MAL_retrieveEntry(mal_entry)\n",
    "        \n",
    "        # processes the anime page\n",
    "        mal_entry = MAL_retrieveSidebar(mal_entry, soup_mal_entry)\n",
    "        mal_entry = MAL_ppSidebar(mal_entry)\n",
    "        mal_entry = MAL_retrieveTopbar(mal_entry, soup_mal_entry)\n",
    "        mal_entry = MAL_retrieveRelated(mal_entry, soup_mal_entry)\n",
    "\n",
    "        mal_top.append(mal_entry)\n",
    "    \n",
    "    return mal_top"
   ]
  },
  {
   "cell_type": "code",
   "execution_count": 67,
   "metadata": {},
   "outputs": [],
   "source": [
    "mal_top50 = MAL_createdict_top(soup_mal_top50)"
   ]
  },
  {
   "cell_type": "markdown",
   "metadata": {},
   "source": [
    "Put the required columns into a dataframe"
   ]
  },
  {
   "cell_type": "code",
   "execution_count": 32,
   "metadata": {},
   "outputs": [],
   "source": [
    "mal_df = pd.DataFrame(mal_top50)"
   ]
  },
  {
   "cell_type": "code",
   "execution_count": 33,
   "metadata": {},
   "outputs": [
    {
     "output_type": "execute_result",
     "data": {
      "text/plain": "                              Title  \\\n0  Fullmetal Alchemist: Brotherhood   \n1                       Steins;Gate   \n2                          Gintama°   \n3            Hunter x Hunter (2011)   \n4              Ginga Eiyuu Densetsu   \n\n                                                 URL  \\\n0  https://myanimelist.net/anime/5114/Fullmetal_A...   \n1     https://myanimelist.net/anime/9253/Steins_Gate   \n2       https://myanimelist.net/anime/28977/Gintama°   \n3  https://myanimelist.net/anime/11061/Hunter_x_H...   \n4  https://myanimelist.net/anime/820/Ginga_Eiyuu_...   \n\n                            English  \\\n0  Fullmetal Alchemist: Brotherhood   \n1                       Steins;Gate   \n2                  Gintama Season 4   \n3                   Hunter x Hunter   \n4     Legend of the Galactic Heroes   \n\n                                            Synonyms  \\\n0  Hagane no Renkinjutsushi: Fullmetal Alchemist,...   \n1                                                NaN   \n2                                    Gintama' (2015)   \n3                                         HxH (2011)   \n4  LoGH, LotGH, Gin'eiden, GinEiDen, Heldensagen ...   \n\n                     Japanese Type  Episodes           Status  \\\n0  鋼の錬金術師 FULLMETAL ALCHEMIST   TV        64  Finished Airing   \n1                 STEINS;GATE   TV        24  Finished Airing   \n2                         銀魂°   TV        51  Finished Airing   \n3    HUNTER×HUNTER（ハンター×ハンター）   TV       148  Finished Airing   \n4                      銀河英雄伝説  OVA       110  Finished Airing   \n\n                         Aired    Premiered  ...  \\\n0   Apr 5, 2009 to Jul 4, 2010  Spring 2009  ...   \n1  Apr 6, 2011 to Sep 14, 2011  Spring 2011  ...   \n2  Apr 8, 2015 to Mar 30, 2016  Spring 2015  ...   \n3  Oct 2, 2011 to Sep 24, 2014    Fall 2011  ...   \n4  Jan 8, 1988 to Mar 17, 1997          NaN  ...   \n\n                                 Alternative version  \\\n0                              [Fullmetal Alchemist]   \n1  [Steins;Gate: Kyoukaimenjou no Missing Link - ...   \n2                                                NaN   \n3  [Hunter x Hunter, Hunter x Hunter: Yorkshin Ci...   \n4  [Ginga Eiyuu Densetsu: Die Neue These - Kaikou...   \n\n                                          Side story  \\\n0  [Fullmetal Alchemist: Brotherhood Specials, Fu...   \n1                                                NaN   \n2  [Gintama°: Umai-mono wa Atomawashi ni Suru to ...   \n3  [Hunter x Hunter Movie 1: Phantom Rouge, Hunte...   \n4  [Ginga Eiyuu Densetsu Gaiden, Ginga Eiyuu Dens...   \n\n                                            Spin-off  \\\n0  [Fullmetal Alchemist: Brotherhood - 4-Koma The...   \n1                                                NaN   \n2                                                NaN   \n3                                                NaN   \n4                                                NaN   \n\n                                 Alternative setting  \\\n0                                                NaN   \n1  [ChäoS;HEAd, Robotics;Notes, ChäoS;Child, Occu...   \n2                                                NaN   \n3                                                NaN   \n4                                                NaN   \n\n                                    Sequel  \\\n0                                      NaN   \n1  [Steins;Gate: Oukoubakko no Poriomania]   \n2                               [Gintama.]   \n3                                      NaN   \n4                                      NaN   \n\n                                               Other  \\\n0                                                NaN   \n1  [Steins;Gate: Soumei Eichi no Cognitive Comput...   \n2                                                NaN   \n3                                                NaN   \n4                                                NaN   \n\n                                             Prequel Character  Parent story  \\\n0                                                NaN       NaN           NaN   \n1                                                NaN       NaN           NaN   \n2  [Gintama Movie 2: Kanketsu-hen - Yorozuya yo E...       NaN           NaN   \n3                                                NaN       NaN           NaN   \n4  [Ginga Eiyuu Densetsu: Arata Naru Tatakai no O...       NaN           NaN   \n\n  Summary  \n0     NaN  \n1     NaN  \n2     NaN  \n3     NaN  \n4     NaN  \n\n[5 rows x 37 columns]",
      "text/html": "<div>\n<style scoped>\n    .dataframe tbody tr th:only-of-type {\n        vertical-align: middle;\n    }\n\n    .dataframe tbody tr th {\n        vertical-align: top;\n    }\n\n    .dataframe thead th {\n        text-align: right;\n    }\n</style>\n<table border=\"1\" class=\"dataframe\">\n  <thead>\n    <tr style=\"text-align: right;\">\n      <th></th>\n      <th>Title</th>\n      <th>URL</th>\n      <th>English</th>\n      <th>Synonyms</th>\n      <th>Japanese</th>\n      <th>Type</th>\n      <th>Episodes</th>\n      <th>Status</th>\n      <th>Aired</th>\n      <th>Premiered</th>\n      <th>...</th>\n      <th>Alternative version</th>\n      <th>Side story</th>\n      <th>Spin-off</th>\n      <th>Alternative setting</th>\n      <th>Sequel</th>\n      <th>Other</th>\n      <th>Prequel</th>\n      <th>Character</th>\n      <th>Parent story</th>\n      <th>Summary</th>\n    </tr>\n  </thead>\n  <tbody>\n    <tr>\n      <th>0</th>\n      <td>Fullmetal Alchemist: Brotherhood</td>\n      <td>https://myanimelist.net/anime/5114/Fullmetal_A...</td>\n      <td>Fullmetal Alchemist: Brotherhood</td>\n      <td>Hagane no Renkinjutsushi: Fullmetal Alchemist,...</td>\n      <td>鋼の錬金術師 FULLMETAL ALCHEMIST</td>\n      <td>TV</td>\n      <td>64</td>\n      <td>Finished Airing</td>\n      <td>Apr 5, 2009 to Jul 4, 2010</td>\n      <td>Spring 2009</td>\n      <td>...</td>\n      <td>[Fullmetal Alchemist]</td>\n      <td>[Fullmetal Alchemist: Brotherhood Specials, Fu...</td>\n      <td>[Fullmetal Alchemist: Brotherhood - 4-Koma The...</td>\n      <td>NaN</td>\n      <td>NaN</td>\n      <td>NaN</td>\n      <td>NaN</td>\n      <td>NaN</td>\n      <td>NaN</td>\n      <td>NaN</td>\n    </tr>\n    <tr>\n      <th>1</th>\n      <td>Steins;Gate</td>\n      <td>https://myanimelist.net/anime/9253/Steins_Gate</td>\n      <td>Steins;Gate</td>\n      <td>NaN</td>\n      <td>STEINS;GATE</td>\n      <td>TV</td>\n      <td>24</td>\n      <td>Finished Airing</td>\n      <td>Apr 6, 2011 to Sep 14, 2011</td>\n      <td>Spring 2011</td>\n      <td>...</td>\n      <td>[Steins;Gate: Kyoukaimenjou no Missing Link - ...</td>\n      <td>NaN</td>\n      <td>NaN</td>\n      <td>[ChäoS;HEAd, Robotics;Notes, ChäoS;Child, Occu...</td>\n      <td>[Steins;Gate: Oukoubakko no Poriomania]</td>\n      <td>[Steins;Gate: Soumei Eichi no Cognitive Comput...</td>\n      <td>NaN</td>\n      <td>NaN</td>\n      <td>NaN</td>\n      <td>NaN</td>\n    </tr>\n    <tr>\n      <th>2</th>\n      <td>Gintama°</td>\n      <td>https://myanimelist.net/anime/28977/Gintama°</td>\n      <td>Gintama Season 4</td>\n      <td>Gintama' (2015)</td>\n      <td>銀魂°</td>\n      <td>TV</td>\n      <td>51</td>\n      <td>Finished Airing</td>\n      <td>Apr 8, 2015 to Mar 30, 2016</td>\n      <td>Spring 2015</td>\n      <td>...</td>\n      <td>NaN</td>\n      <td>[Gintama°: Umai-mono wa Atomawashi ni Suru to ...</td>\n      <td>NaN</td>\n      <td>NaN</td>\n      <td>[Gintama.]</td>\n      <td>NaN</td>\n      <td>[Gintama Movie 2: Kanketsu-hen - Yorozuya yo E...</td>\n      <td>NaN</td>\n      <td>NaN</td>\n      <td>NaN</td>\n    </tr>\n    <tr>\n      <th>3</th>\n      <td>Hunter x Hunter (2011)</td>\n      <td>https://myanimelist.net/anime/11061/Hunter_x_H...</td>\n      <td>Hunter x Hunter</td>\n      <td>HxH (2011)</td>\n      <td>HUNTER×HUNTER（ハンター×ハンター）</td>\n      <td>TV</td>\n      <td>148</td>\n      <td>Finished Airing</td>\n      <td>Oct 2, 2011 to Sep 24, 2014</td>\n      <td>Fall 2011</td>\n      <td>...</td>\n      <td>[Hunter x Hunter, Hunter x Hunter: Yorkshin Ci...</td>\n      <td>[Hunter x Hunter Movie 1: Phantom Rouge, Hunte...</td>\n      <td>NaN</td>\n      <td>NaN</td>\n      <td>NaN</td>\n      <td>NaN</td>\n      <td>NaN</td>\n      <td>NaN</td>\n      <td>NaN</td>\n      <td>NaN</td>\n    </tr>\n    <tr>\n      <th>4</th>\n      <td>Ginga Eiyuu Densetsu</td>\n      <td>https://myanimelist.net/anime/820/Ginga_Eiyuu_...</td>\n      <td>Legend of the Galactic Heroes</td>\n      <td>LoGH, LotGH, Gin'eiden, GinEiDen, Heldensagen ...</td>\n      <td>銀河英雄伝説</td>\n      <td>OVA</td>\n      <td>110</td>\n      <td>Finished Airing</td>\n      <td>Jan 8, 1988 to Mar 17, 1997</td>\n      <td>NaN</td>\n      <td>...</td>\n      <td>[Ginga Eiyuu Densetsu: Die Neue These - Kaikou...</td>\n      <td>[Ginga Eiyuu Densetsu Gaiden, Ginga Eiyuu Dens...</td>\n      <td>NaN</td>\n      <td>NaN</td>\n      <td>NaN</td>\n      <td>NaN</td>\n      <td>[Ginga Eiyuu Densetsu: Arata Naru Tatakai no O...</td>\n      <td>NaN</td>\n      <td>NaN</td>\n      <td>NaN</td>\n    </tr>\n  </tbody>\n</table>\n<p>5 rows × 37 columns</p>\n</div>"
     },
     "metadata": {},
     "execution_count": 33
    }
   ],
   "source": [
    "mal_df.head(5)"
   ]
  },
  {
   "cell_type": "markdown",
   "metadata": {},
   "source": [
    "Save it!"
   ]
  },
  {
   "cell_type": "code",
   "execution_count": 34,
   "metadata": {},
   "outputs": [],
   "source": [
    "mal_df.to_pickle('data\\\\mal_top50_mvp.pkl')"
   ]
  },
  {
   "cell_type": "markdown",
   "metadata": {},
   "source": [
    "Now let's pull data from the alphabetical list"
   ]
  },
  {
   "cell_type": "code",
   "execution_count": 35,
   "metadata": {},
   "outputs": [],
   "source": [
    "def MAL_loadanime_char(num_pages, char):\n",
    "    '''\n",
    "    Load the first X anime starting with char from MAL based on number of pages, 50 per page\n",
    "    So X = (num_pages * 50)\n",
    "    To load anime with non-alphabetical starts, use '.'\n",
    "    Returns a soup of the list of the first X anime starting with char\n",
    "    '''\n",
    "    animechar_text = \"\"\n",
    "    for counter in range(1, num_pages + 1):\n",
    "        limit = (counter - 1) * 50\n",
    "        url = \"https://myanimelist.net/anime.php?letter=\" + char + \"&show=\" + str(limit)\n",
    "        response = requests.get(url)\n",
    "        if response.status_code != 200:\n",
    "            print('Error reading page ', counter , ' of MAL first ', num_pages * 50, ' starting with ', char)\n",
    "        else:\n",
    "            animechar_text += response.text\n",
    "    return BeautifulSoup(animechar_text, 'html5').find_all(class_=\"picSurround\")"
   ]
  },
  {
   "cell_type": "code",
   "execution_count": 36,
   "metadata": {},
   "outputs": [],
   "source": [
    "def MAL_initEntry_alpha(soup):\n",
    "    '''\n",
    "    Takes the soup of an entry in the MAL alphabetical list\n",
    "    Returns a dictionay entry with Title and URL of the anime\n",
    "    '''\n",
    "    entry = {}\n",
    "    entry['Title'] = soup.find(\"img\").get('alt')\n",
    "    entry['URL'] = soup.get('href')\n",
    "    return entry"
   ]
  },
  {
   "cell_type": "code",
   "execution_count": 37,
   "metadata": {},
   "outputs": [],
   "source": [
    "soup_mal_first50A_list = MAL_loadanime_char(1, 'A')"
   ]
  },
  {
   "cell_type": "code",
   "execution_count": 38,
   "metadata": {
    "tags": [
     "outputPrepend"
    ]
   },
   "outputs": [],
   "source": [
    "def MAL_createdict_firstchar(soup):\n",
    "    '''\n",
    "    Takes in the soup of first X anime starting with char and returns a dictionary list \n",
    "    '''\n",
    "    mal_firstchar = []\n",
    "    for anime_soup in soup:\n",
    "\n",
    "        anime_soup = anime_soup.find(class_=\"hoverinfo_trigger\")\n",
    "\n",
    "        # proceses the entry in the top 50 page and gets the related page\n",
    "        mal_entry = MAL_initEntry_alpha(anime_soup) \n",
    "        soup_mal_entry = MAL_retrieveEntry(mal_entry)\n",
    "        \n",
    "        # processes the anime page\n",
    "        mal_entry = MAL_retrieveSidebar(mal_entry, soup_mal_entry)\n",
    "        mal_entry = MAL_ppSidebar(mal_entry)\n",
    "        mal_entry = MAL_retrieveTopbar(mal_entry, soup_mal_entry)\n",
    "        mal_entry = MAL_retrieveRelated(mal_entry, soup_mal_entry)\n",
    "\n",
    "        mal_firstchar.append(mal_entry)\n",
    "    return mal_firstchar"
   ]
  },
  {
   "cell_type": "code",
   "execution_count": 39,
   "metadata": {},
   "outputs": [],
   "source": [
    "mal_first50A = MAL_createdict_firstchar(soup_mal_first50A_list)"
   ]
  },
  {
   "cell_type": "code",
   "execution_count": 40,
   "metadata": {},
   "outputs": [],
   "source": [
    "mal_df = pd.DataFrame(mal_first50A)"
   ]
  },
  {
   "cell_type": "code",
   "execution_count": 41,
   "metadata": {},
   "outputs": [
    {
     "output_type": "execute_result",
     "data": {
      "text/plain": "Title                                                 A Brightening Life\nURL                    https://myanimelist.net/anime/40628/A_Brighten...\nEnglish                                               A brightening life\nJapanese                                              A brightening life\nType                                                               Movie\nEpisodes                                                               1\nStatus                                                   Finished Airing\nAired                                                               2010\nProducers                                                             []\nLicensors                                                             []\nStudios                                                               []\nSource                                                          Original\nGenres                                                    [Drama, Music]\nDuration                                                               8\nRating                                                     PG - Children\nScore                                                                NaN\nRanked                                                            #10255\nPopularity                                                        #15794\nMembers                                                              102\nFavorites                                                              1\nStarted                                              2010-01-01 00:00:00\nVoters                                                               NaN\nEnded                                                                NaT\nCharacter                                                            NaN\nSequel                                                               NaN\nAlternative version                                                  NaN\nSynonyms                                                             NaN\nPremiered                                                            NaN\nBroadcast                                                            NaN\nAdaptation                                                           NaN\nOther                                                                NaN\nPrequel                                                              NaN\nParent story                                                         NaN\nSide story                                                           NaN\nSpin-off                                                             NaN\nName: 0, dtype: object"
     },
     "metadata": {},
     "execution_count": 41
    }
   ],
   "source": [
    "mal_df.iloc[0]"
   ]
  },
  {
   "cell_type": "code",
   "execution_count": 42,
   "metadata": {},
   "outputs": [
    {
     "output_type": "execute_result",
     "data": {
      "text/plain": "                 Title                                                URL  \\\n0   A Brightening Life  https://myanimelist.net/anime/40628/A_Brighten...   \n1     A Christmas Song  https://myanimelist.net/anime/39086/A_Christma...   \n2               A Kite           https://myanimelist.net/anime/320/A_Kite   \n3  A Log Day of Timbre  https://myanimelist.net/anime/38712/A_Log_Day_...   \n4        A New Journey  https://myanimelist.net/anime/39057/A_New_Journey   \n\n               English             Japanese   Type  Episodes           Status  \\\n0   A brightening life   A brightening life  Movie       1.0  Finished Airing   \n1     A Christmas Song     A Christmas Song  Music       1.0  Finished Airing   \n2                 Kite          A KITE（カイト）    OVA       2.0  Finished Airing   \n3  A Log Day of Timbre  A Log Day of Timbre    ONA       1.0  Finished Airing   \n4                  NaN        A New Journey    ONA       1.0  Finished Airing   \n\n                          Aired                          Producers  \\\n0                          2010                                 []   \n1                  Nov 29, 2012               [Avex Entertainment]   \n2  Feb 25, 1998 to Oct 25, 1998  [Green Bunny, BEAM Entertainment]   \n3                  Feb 25, 2011                                 []   \n4                  Jan 18, 2019                                 []   \n\n          Licensors  ... Alternative version  \\\n0                []  ...                 NaN   \n1                []  ...                 NaN   \n2  [Media Blasters]  ...                 NaN   \n3                []  ...     [Timbre A to Z]   \n4                []  ...                 NaN   \n\n                                         Synonyms Premiered  Broadcast  \\\n0                                             NaN       NaN        NaN   \n1                                             NaN       NaN        NaN   \n2                                             NaN       NaN        NaN   \n3                                             NaN       NaN        NaN   \n4  Season 2019: A New Journey | League of Legends       NaN        NaN   \n\n  Adaptation  Other Prequel Parent story  Side story  Spin-off  \n0        NaN    NaN     NaN          NaN         NaN       NaN  \n1        NaN    NaN     NaN          NaN         NaN       NaN  \n2        NaN    NaN     NaN          NaN         NaN       NaN  \n3        NaN    NaN     NaN          NaN         NaN       NaN  \n4        NaN    NaN     NaN          NaN         NaN       NaN  \n\n[5 rows x 35 columns]",
      "text/html": "<div>\n<style scoped>\n    .dataframe tbody tr th:only-of-type {\n        vertical-align: middle;\n    }\n\n    .dataframe tbody tr th {\n        vertical-align: top;\n    }\n\n    .dataframe thead th {\n        text-align: right;\n    }\n</style>\n<table border=\"1\" class=\"dataframe\">\n  <thead>\n    <tr style=\"text-align: right;\">\n      <th></th>\n      <th>Title</th>\n      <th>URL</th>\n      <th>English</th>\n      <th>Japanese</th>\n      <th>Type</th>\n      <th>Episodes</th>\n      <th>Status</th>\n      <th>Aired</th>\n      <th>Producers</th>\n      <th>Licensors</th>\n      <th>...</th>\n      <th>Alternative version</th>\n      <th>Synonyms</th>\n      <th>Premiered</th>\n      <th>Broadcast</th>\n      <th>Adaptation</th>\n      <th>Other</th>\n      <th>Prequel</th>\n      <th>Parent story</th>\n      <th>Side story</th>\n      <th>Spin-off</th>\n    </tr>\n  </thead>\n  <tbody>\n    <tr>\n      <th>0</th>\n      <td>A Brightening Life</td>\n      <td>https://myanimelist.net/anime/40628/A_Brighten...</td>\n      <td>A brightening life</td>\n      <td>A brightening life</td>\n      <td>Movie</td>\n      <td>1.0</td>\n      <td>Finished Airing</td>\n      <td>2010</td>\n      <td>[]</td>\n      <td>[]</td>\n      <td>...</td>\n      <td>NaN</td>\n      <td>NaN</td>\n      <td>NaN</td>\n      <td>NaN</td>\n      <td>NaN</td>\n      <td>NaN</td>\n      <td>NaN</td>\n      <td>NaN</td>\n      <td>NaN</td>\n      <td>NaN</td>\n    </tr>\n    <tr>\n      <th>1</th>\n      <td>A Christmas Song</td>\n      <td>https://myanimelist.net/anime/39086/A_Christma...</td>\n      <td>A Christmas Song</td>\n      <td>A Christmas Song</td>\n      <td>Music</td>\n      <td>1.0</td>\n      <td>Finished Airing</td>\n      <td>Nov 29, 2012</td>\n      <td>[Avex Entertainment]</td>\n      <td>[]</td>\n      <td>...</td>\n      <td>NaN</td>\n      <td>NaN</td>\n      <td>NaN</td>\n      <td>NaN</td>\n      <td>NaN</td>\n      <td>NaN</td>\n      <td>NaN</td>\n      <td>NaN</td>\n      <td>NaN</td>\n      <td>NaN</td>\n    </tr>\n    <tr>\n      <th>2</th>\n      <td>A Kite</td>\n      <td>https://myanimelist.net/anime/320/A_Kite</td>\n      <td>Kite</td>\n      <td>A KITE（カイト）</td>\n      <td>OVA</td>\n      <td>2.0</td>\n      <td>Finished Airing</td>\n      <td>Feb 25, 1998 to Oct 25, 1998</td>\n      <td>[Green Bunny, BEAM Entertainment]</td>\n      <td>[Media Blasters]</td>\n      <td>...</td>\n      <td>NaN</td>\n      <td>NaN</td>\n      <td>NaN</td>\n      <td>NaN</td>\n      <td>NaN</td>\n      <td>NaN</td>\n      <td>NaN</td>\n      <td>NaN</td>\n      <td>NaN</td>\n      <td>NaN</td>\n    </tr>\n    <tr>\n      <th>3</th>\n      <td>A Log Day of Timbre</td>\n      <td>https://myanimelist.net/anime/38712/A_Log_Day_...</td>\n      <td>A Log Day of Timbre</td>\n      <td>A Log Day of Timbre</td>\n      <td>ONA</td>\n      <td>1.0</td>\n      <td>Finished Airing</td>\n      <td>Feb 25, 2011</td>\n      <td>[]</td>\n      <td>[]</td>\n      <td>...</td>\n      <td>[Timbre A to Z]</td>\n      <td>NaN</td>\n      <td>NaN</td>\n      <td>NaN</td>\n      <td>NaN</td>\n      <td>NaN</td>\n      <td>NaN</td>\n      <td>NaN</td>\n      <td>NaN</td>\n      <td>NaN</td>\n    </tr>\n    <tr>\n      <th>4</th>\n      <td>A New Journey</td>\n      <td>https://myanimelist.net/anime/39057/A_New_Journey</td>\n      <td>NaN</td>\n      <td>A New Journey</td>\n      <td>ONA</td>\n      <td>1.0</td>\n      <td>Finished Airing</td>\n      <td>Jan 18, 2019</td>\n      <td>[]</td>\n      <td>[]</td>\n      <td>...</td>\n      <td>NaN</td>\n      <td>Season 2019: A New Journey | League of Legends</td>\n      <td>NaN</td>\n      <td>NaN</td>\n      <td>NaN</td>\n      <td>NaN</td>\n      <td>NaN</td>\n      <td>NaN</td>\n      <td>NaN</td>\n      <td>NaN</td>\n    </tr>\n  </tbody>\n</table>\n<p>5 rows × 35 columns</p>\n</div>"
     },
     "metadata": {},
     "execution_count": 42
    }
   ],
   "source": [
    "mal_df.head(5)"
   ]
  },
  {
   "cell_type": "code",
   "execution_count": 43,
   "metadata": {},
   "outputs": [],
   "source": [
    "mal_df.to_pickle('data\\\\mal_first50a_mvp.pkl')"
   ]
  },
  {
   "cell_type": "markdown",
   "metadata": {},
   "source": [
    "Generate for top 500 and first 500 in A"
   ]
  },
  {
   "cell_type": "code",
   "execution_count": 44,
   "metadata": {},
   "outputs": [],
   "source": [
    "# do for top 500\n",
    "\n",
    "mal_top500_soup = MAL_loadtopanime(10)\n",
    "mal_top500_dict = MAL_createdict_top(mal_top500_soup)\n",
    "mal_top500_df = pd.DataFrame(mal_top500_dict)\n",
    "\n",
    "mal_top500_df.to_pickle('data\\\\mal_top500.pkl')"
   ]
  },
  {
   "cell_type": "code",
   "execution_count": 45,
   "metadata": {},
   "outputs": [],
   "source": [
    "# and for first 500 A\n",
    "\n",
    "mal_first500A_soup = MAL_loadanime_char(10, 'A')\n",
    "mal_first500A_dict = MAL_createdict_firstchar(mal_first500A_soup)\n",
    "mal_first500A_df = pd.DataFrame(mal_first500A_dict)\n",
    "\n",
    "mal_first500A_df.to_pickle('data\\\\mal_first500A.pkl')"
   ]
  },
  {
   "cell_type": "code",
   "execution_count": null,
   "metadata": {},
   "outputs": [],
   "source": []
  }
 ],
 "metadata": {
  "language_info": {
   "name": "python",
   "codemirror_mode": {
    "name": "ipython",
    "version": 3
   },
   "version": "3.7.6-final"
  },
  "orig_nbformat": 2,
  "file_extension": ".py",
  "mimetype": "text/x-python",
  "name": "python",
  "npconvert_exporter": "python",
  "pygments_lexer": "ipython3",
  "version": 3,
  "kernelspec": {
   "name": "python3",
   "display_name": "Python 3"
  }
 },
 "nbformat": 4,
 "nbformat_minor": 2
}