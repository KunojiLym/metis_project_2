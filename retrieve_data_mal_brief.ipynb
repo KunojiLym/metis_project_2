{
 "cells": [
  {
   "cell_type": "code",
   "execution_count": 6,
   "metadata": {},
   "outputs": [],
   "source": [
    "import pandas as pd\n",
    "\n",
    "import maldata"
   ]
  },
  {
   "cell_type": "code",
   "execution_count": 11,
   "metadata": {},
   "outputs": [
    {
     "output_type": "stream",
     "name": "stdout",
     "text": "loading 10 pages of anime beginning with J\n---\nloading page 1 of 10\nloading page 2 of 10\nloading page 3 of 10\nloading page 4 of 10\nloading page 5 of 10\nloading page 6 of 10\nloading page 7 of 10\nEncountered 404 error while reading page 7 of MAL anime starting with J\nno more pages\n---\nWriting to file.\n"
    }
   ],
   "source": [
    "num_pages = 10\n",
    "char = 'J'\n",
    "\n",
    "mal_df = None\n",
    "\n",
    "print('loading', num_pages, 'pages of anime beginning with', char)\n",
    "print('---')\n",
    "for page_num in range(1, num_pages + 1):\n",
    "\n",
    "    print(\"loading page\", page_num, \"of\", num_pages)\n",
    "    \n",
    "    try:\n",
    "        mal_soup = maldata.loadanime_char(page_num, char)\n",
    "        mal_dict = maldata.createdict_firstchar(mal_soup)\n",
    "\n",
    "        if mal_df is None:\n",
    "            mal_df = pd.DataFrame(mal_dict)\n",
    "        else:\n",
    "            mal_df = pd.concat([mal_df, pd.DataFrame(mal_dict)])\n",
    "    except:\n",
    "        print('no more pages')\n",
    "        break\n",
    "    \n",
    "print('---')\n",
    "print('Writing to file.')\n",
    "mal_df.to_pickle('data\\\\mal_first' + str(num_pages * 50) + char + '.pkl')"
   ]
  },
  {
   "cell_type": "code",
   "execution_count": null,
   "metadata": {},
   "outputs": [],
   "source": []
  }
 ],
 "metadata": {
  "language_info": {
   "codemirror_mode": {
    "name": "ipython",
    "version": 3
   },
   "file_extension": ".py",
   "mimetype": "text/x-python",
   "name": "python",
   "nbconvert_exporter": "python",
   "pygments_lexer": "ipython3",
   "version": "3.7.6-final"
  },
  "orig_nbformat": 2,
  "kernelspec": {
   "name": "python3",
   "display_name": "Python 3"
  }
 },
 "nbformat": 4,
 "nbformat_minor": 2
}